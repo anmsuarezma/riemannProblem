{
 "cells": [
  {
   "cell_type": "code",
   "execution_count": 1,
   "metadata": {},
   "outputs": [],
   "source": [
    "import numpy as np\n",
    "from sympy import symbols, Eq, solve"
   ]
  },
  {
   "cell_type": "markdown",
   "metadata": {},
   "source": [
    "We need to find $p_{*}$, which is the pressure in the contact left and contact right states. Such pressure can be found solving\n",
    "\n",
    "$$f\\left(p,W_L,W_R\\right) = f_L\\left(p,W_L\\right) + f_R\\left(p,W_R\\right) + \\left(u_R - u_L\\right),$$\n",
    "\n",
    "with\n",
    "\n",
    "$$f_L\\left(p,W_L\\right) = \\left(p - p_L\\right)\\left[\\frac{A_L}{p+B_L}\\right]^{\\frac{1}{2}},$$\n",
    "\n",
    "$$f_R\\left(p,W_R\\right) = \\left(p - p_R\\right)\\left[\\frac{A_R}{p+B_R}\\right]^{\\frac{1}{2}},$$\n",
    "\n",
    "$$A_L = \\frac{2}{\\left(\\gamma + 1\\right)ŗho_L},$$\n",
    "\n",
    "$$A_R = \\frac{2}{\\left(\\gamma + 1\\right)ŗho_R},$$\n",
    "\n",
    "$$B_L = \\frac{\\gamma - 1}{\\gamma + 1}p_L,$$\n",
    "\n",
    "$$B_R = \\frac{\\gamma - 1}{\\gamma + 1}p_R.$$\n",
    "\n",
    "On the other hand, in order to find the contact left and contact right velocity we solve\n",
    "\n",
    "$$u_* =  \\frac{1}{2}\\left(u_L + u_R\\right) + \\frac{1}{2}\\left[f_R\\left(p_*\\right) - f_L\\left(p_*\\right)\\right].$$\n",
    "\n",
    "To find the densities in the contact left and in the contact right, we solve\n",
    "\n",
    "$$\\rho_{*L} = \\rho_L \\left[\\frac{\\left(\\frac{\\gamma-1}{\\gamma-1}\\right) + \\left(\\frac{p_*}{p_L}\\right)}{\\left(\\frac{\\gamma-1}{\\gamma+1}\\right)\\left(\\frac{p_*}{p_L}\\right)+1}\\right],$$\n",
    "\n",
    "and\n",
    "\n",
    "$$\\rho_{*R} = \\rho_R \\left[\\frac{\\left(\\frac{\\gamma-1}{\\gamma-1}\\right) + \\left(\\frac{p_*}{p_R}\\right)}{\\left(\\frac{\\gamma-1}{\\gamma+1}\\right)\\left(\\frac{p_*}{p_R}\\right)+1}\\right].$$\n",
    "\n",
    "Finally, the shock wave velocities are given by\n",
    "\n",
    "$$S_R = u_R + a_R\\left(\\frac{\\gamma + 1}{2\\gamma}\\frac{p_*}{p_R} + \\frac{\\gamma-1}{2\\gamma}\\right)^{\\frac{1}{2}},$$\n",
    "\n",
    "$$S_L = u_L - a_L\\left(\\frac{\\gamma + 1}{2\\gamma}\\frac{p_*}{p_L} + \\frac{\\gamma-1}{2\\gamma}\\right)^{\\frac{1}{2}},$$\n",
    "\n",
    "for a right shock wave (wave going to the right) and for a left shock wave (wave going to the left), respectively.\n"
   ]
  },
  {
   "cell_type": "code",
   "execution_count": 2,
   "metadata": {},
   "outputs": [],
   "source": [
    "#Data from the left and right states W_L and W_R respectively\n",
    "#Velocity\n",
    "uL = -2.0\n",
    "uR = 2.0\n",
    "#Pressure\n",
    "pL =  0.4\n",
    "pR = 0.4\n",
    "\n",
    "#Density\n",
    "rhoL = 1.0\n",
    "rhoR = 1.0\n",
    "#Adiabatic factor\n",
    "gamma = 1.4"
   ]
  },
  {
   "cell_type": "code",
   "execution_count": 3,
   "metadata": {},
   "outputs": [
    {
     "name": "stdout",
     "output_type": "stream",
     "text": [
      "0.7483314773547882\n"
     ]
    }
   ],
   "source": [
    "#Spped of sound left state\n",
    "aL = np.sqrt(gamma * pL / rhoL)\n",
    "#Velocity sound right state\n",
    "aR = np.sqrt(gamma * pR / rhoR)\n",
    "print(aL)"
   ]
  },
  {
   "cell_type": "code",
   "execution_count": 4,
   "metadata": {},
   "outputs": [],
   "source": [
    "#Auxiliar functions\n",
    "gammaPlus = gamma + 1\n",
    "gammaMinus = gamma - 1\n",
    "AL = 2 / (rhoL * gammaPlus)\n",
    "AR = 2 / (rhoR * gammaPlus)\n",
    "BL = pL * gammaMinus / gammaPlus\n",
    "BR = pR * gammaMinus / gammaPlus"
   ]
  },
  {
   "cell_type": "code",
   "execution_count": 5,
   "metadata": {},
   "outputs": [
    {
     "name": "stderr",
     "output_type": "stream",
     "text": [
      "/usr/local/lib/python3.8/dist-packages/sympy/core/relational.py:486: SymPyDeprecationWarning: \n",
      "\n",
      "Eq(expr) with rhs default to 0 has been deprecated since SymPy 1.5.\n",
      "Use Eq(expr, 0) instead. See\n",
      "https://github.com/sympy/sympy/issues/16587 for more info.\n",
      "\n",
      "  SymPyDeprecationWarning(\n"
     ]
    },
    {
     "name": "stdout",
     "output_type": "stream",
     "text": [
      "[-0.0284271247461902]\n"
     ]
    }
   ],
   "source": [
    "#Solving p_*\n",
    "p = symbols(\"p\")\n",
    "fL = (p - pL) * (AL / (p + BL)) ** 0.5\n",
    "fR = (p - pR) * (AR / (p + BR)) ** 0.5\n",
    "f = Eq((p - pL) * (AL / (p + BL)) ** 0.5 +  (p - pR) * (AR / (p + BR)) ** 0.5  + (uR - uL))\n",
    "print(solve(f,p))"
   ]
  },
  {
   "cell_type": "code",
   "execution_count": 6,
   "metadata": {},
   "outputs": [
    {
     "name": "stdout",
     "output_type": "stream",
     "text": [
      "0\n"
     ]
    }
   ],
   "source": [
    "#Solving u_*\n",
    "pAst = -0.0284271247461902\n",
    "uAst = 0.5 * (uL + uR) + 0.5 * (fR.subs(p, pAst) -  fL.subs(p, pAst)) \n",
    "print(uAst)"
   ]
  },
  {
   "cell_type": "code",
   "execution_count": 14,
   "metadata": {},
   "outputs": [
    {
     "name": "stdout",
     "output_type": "stream",
     "text": [
      "5.999241775556085\n"
     ]
    }
   ],
   "source": [
    "#Solving contact densities\n",
    "aux = gammaMinus / gammaPlus\n",
    "rhoAstR = rhoL * (aux + (pAst / pL)) / (aux * (pAst / pL) + 1)\n",
    "rhoAstL = rhoR * (aux + (pAst / pR)) / (aux * (pAst / pR) + 1)\n",
    "print(rhoAstL)"
   ]
  },
  {
   "cell_type": "code",
   "execution_count": 15,
   "metadata": {},
   "outputs": [
    {
     "name": "stdout",
     "output_type": "stream",
     "text": [
      "10.378216829539705\n"
     ]
    }
   ],
   "source": [
    "#Speed of sound at contact discontinuities\n",
    "aContactL = np.sqrt(gamma * pAst / rhoAstL)\n",
    "aContactR = np.sqrt(gamma * pAst / rhoAstR)\n",
    "print(aContactL)"
   ]
  },
  {
   "cell_type": "code",
   "execution_count": 19,
   "metadata": {},
   "outputs": [
    {
     "name": "stdout",
     "output_type": "stream",
     "text": [
      "23.534138868470855\n"
     ]
    }
   ],
   "source": [
    "#Speed of shock\n",
    "sR = uR + aR * np.sqrt((gammaPlus / (2 * gamma)) * (pAst / pR) + (gammaMinus / (2 * gamma)))\n",
    "#sL = uL - aL * np.sqrt((gammaPlus / (2 * gamma)) * (pAst / pL) + (gammaMinus / (2 * gamma)))\n",
    "print(sR)"
   ]
  },
  {
   "cell_type": "code",
   "execution_count": null,
   "metadata": {},
   "outputs": [],
   "source": []
  }
 ],
 "metadata": {
  "kernelspec": {
   "display_name": "Python 3",
   "language": "python",
   "name": "python3"
  },
  "language_info": {
   "codemirror_mode": {
    "name": "ipython",
    "version": 3
   },
   "file_extension": ".py",
   "mimetype": "text/x-python",
   "name": "python",
   "nbconvert_exporter": "python",
   "pygments_lexer": "ipython3",
   "version": "3.8.5"
  }
 },
 "nbformat": 4,
 "nbformat_minor": 4
}
