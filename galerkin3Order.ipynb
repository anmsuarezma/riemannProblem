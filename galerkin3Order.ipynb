{
 "cells": [
  {
   "cell_type": "code",
   "execution_count": 1,
   "metadata": {},
   "outputs": [],
   "source": [
    "import sympy as sym\n",
    "x , t = sym.symbols(\"x , t\")"
   ]
  },
  {
   "cell_type": "code",
   "execution_count": 2,
   "metadata": {},
   "outputs": [
    {
     "data": {
      "text/latex": [
       "$\\displaystyle \\left[\\begin{matrix}1 & 0 & 0 & 0 & 0 & 0 & 0 & 0 & 0\\\\0 & x & 0 & 0 & 0 & 0 & 0 & 0 & 0\\\\0 & 0 & x^{2} & 0 & 0 & 0 & 0 & 0 & 0\\\\0 & 0 & 0 & t & 0 & 0 & 0 & 0 & 0\\\\0 & 0 & 0 & 0 & t x & 0 & 0 & 0 & 0\\\\0 & 0 & 0 & 0 & 0 & t x^{2} & 0 & 0 & 0\\\\0 & 0 & 0 & 0 & 0 & 0 & t^{2} & 0 & 0\\\\0 & 0 & 0 & 0 & 0 & 0 & 0 & t^{2} x & 0\\\\0 & 0 & 0 & 0 & 0 & 0 & 0 & 0 & t^{2} x^{2}\\end{matrix}\\right]$"
      ],
      "text/plain": [
       "Matrix([\n",
       "[1, 0,    0, 0,   0,      0,    0,      0,         0],\n",
       "[0, x,    0, 0,   0,      0,    0,      0,         0],\n",
       "[0, 0, x**2, 0,   0,      0,    0,      0,         0],\n",
       "[0, 0,    0, t,   0,      0,    0,      0,         0],\n",
       "[0, 0,    0, 0, t*x,      0,    0,      0,         0],\n",
       "[0, 0,    0, 0,   0, t*x**2,    0,      0,         0],\n",
       "[0, 0,    0, 0,   0,      0, t**2,      0,         0],\n",
       "[0, 0,    0, 0,   0,      0,    0, t**2*x,         0],\n",
       "[0, 0,    0, 0,   0,      0,    0,      0, t**2*x**2]])"
      ]
     },
     "execution_count": 2,
     "metadata": {},
     "output_type": "execute_result"
    }
   ],
   "source": [
    "# psik matrix. This is the polynomial basis matrix\n",
    "psik1 = sym.zeros(9, 9); psik1[0, 0] = 1\n",
    "psik2 = sym.zeros(9, 9); psik2[1, 1] = x\n",
    "psik3 = sym.zeros(9, 9); psik3[2, 2] = x ** 2\n",
    "psik4 = sym.zeros(9, 9); psik4[3, 3] = t\n",
    "psik5 = sym.zeros(9, 9); psik5[4, 4] = t * x\n",
    "psik6 = sym.zeros(9, 9); psik6[5, 5] = t * (x ** 2)\n",
    "psik7 = sym.zeros(9, 9); psik7[6, 6] = t ** 2\n",
    "psik8 = sym.zeros(9, 9); psik8[7, 7] = x * (t ** 2)\n",
    "psik9 = sym.zeros(9, 9); psik9[8, 8] = (x ** 2) * (t ** 2)\n",
    "\n",
    "psik = psik1 + psik2  + psik3 + psik4 + psik5 + psik6  + psik7 + psik8 + psik9\n",
    "psik "
   ]
  },
  {
   "cell_type": "code",
   "execution_count": 3,
   "metadata": {},
   "outputs": [
    {
     "data": {
      "text/latex": [
       "$\\displaystyle \\left[\\begin{matrix}1 & 0 & 0 & 0 & 0 & 0 & 0 & 0 & 0\\\\0 & \\frac{1}{3} & 0 & 0 & 0 & 0 & 0 & 0 & 0\\\\0 & 0 & \\frac{1}{5} & 0 & 0 & 0 & 0 & 0 & 0\\\\0 & 0 & 0 & \\frac{1}{3} & 0 & 0 & 0 & 0 & 0\\\\0 & 0 & 0 & 0 & \\frac{1}{9} & 0 & 0 & 0 & 0\\\\0 & 0 & 0 & 0 & 0 & \\frac{1}{15} & 0 & 0 & 0\\\\0 & 0 & 0 & 0 & 0 & 0 & \\frac{1}{5} & 0 & 0\\\\0 & 0 & 0 & 0 & 0 & 0 & 0 & \\frac{1}{15} & 0\\\\0 & 0 & 0 & 0 & 0 & 0 & 0 & 0 & \\frac{1}{25}\\end{matrix}\\right]$"
      ],
      "text/plain": [
       "Matrix([\n",
       "[1,   0,   0,   0,   0,    0,   0,    0,    0],\n",
       "[0, 1/3,   0,   0,   0,    0,   0,    0,    0],\n",
       "[0,   0, 1/5,   0,   0,    0,   0,    0,    0],\n",
       "[0,   0,   0, 1/3,   0,    0,   0,    0,    0],\n",
       "[0,   0,   0,   0, 1/9,    0,   0,    0,    0],\n",
       "[0,   0,   0,   0,   0, 1/15,   0,    0,    0],\n",
       "[0,   0,   0,   0,   0,    0, 1/5,    0,    0],\n",
       "[0,   0,   0,   0,   0,    0,   0, 1/15,    0],\n",
       "[0,   0,   0,   0,   0,    0,   0,    0, 1/25]])"
      ]
     },
     "execution_count": 3,
     "metadata": {},
     "output_type": "execute_result"
    }
   ],
   "source": [
    "# mass matrix\n",
    "mass = sym.integrate(sym.integrate(psik * psik, (x, 0, 1)), (t, 0 , 1)) \n",
    "mass "
   ]
  },
  {
   "cell_type": "code",
   "execution_count": 20,
   "metadata": {
    "scrolled": true
   },
   "outputs": [
    {
     "data": {
      "text/latex": [
       "$\\displaystyle \\left[\\begin{matrix}0 & 0 & 0 & 0 & 0 & 0 & 0 & 0 & 0\\\\0 & 0 & 0 & 0 & 0 & 0 & 0 & 0 & 0\\\\0 & 0 & 0 & 0 & 0 & 0 & 0 & 0 & 0\\\\\\frac{1}{2} & 0 & 0 & 0 & 0 & 0 & 0 & 0 & 0\\\\0 & \\frac{1}{6} & 0 & 0 & 0 & 0 & 0 & 0 & 0\\\\0 & 0 & \\frac{1}{10} & 0 & 0 & 0 & 0 & 0 & 0\\\\0 & 0 & 0 & \\frac{1}{2} & 0 & 0 & 0 & 0 & 0\\\\0 & 0 & 0 & 0 & \\frac{1}{6} & 0 & 0 & 0 & 0\\\\0 & 0 & 0 & 0 & 0 & \\frac{1}{10} & 0 & 0 & 0\\end{matrix}\\right]$"
      ],
      "text/plain": [
       "Matrix([\n",
       "[  0,   0,    0,   0,   0,    0, 0, 0, 0],\n",
       "[  0,   0,    0,   0,   0,    0, 0, 0, 0],\n",
       "[  0,   0,    0,   0,   0,    0, 0, 0, 0],\n",
       "[1/2,   0,    0,   0,   0,    0, 0, 0, 0],\n",
       "[  0, 1/6,    0,   0,   0,    0, 0, 0, 0],\n",
       "[  0,   0, 1/10,   0,   0,    0, 0, 0, 0],\n",
       "[  0,   0,    0, 1/2,   0,    0, 0, 0, 0],\n",
       "[  0,   0,    0,   0, 1/6,    0, 0, 0, 0],\n",
       "[  0,   0,    0,   0,   0, 1/10, 0, 0, 0]])"
      ]
     },
     "execution_count": 20,
     "metadata": {},
     "output_type": "execute_result"
    }
   ],
   "source": [
    "# Ktao matrix\n",
    "psik1_dert = sym.diff(psik1, t)\n",
    "psik2_dert = sym.diff(psik2, t)\n",
    "psik3_dert = sym.diff(psik3, t)\n",
    "psik4_dert = sym.diff(psik4, t)\n",
    "psik5_dert = sym.diff(psik5, t)\n",
    "psik6_dert = sym.diff(psik6, t)\n",
    "psik7_dert = sym.diff(psik7, t)\n",
    "psik8_dert = sym.diff(psik8, t)\n",
    "psik9_dert = sym.diff(psik9, t)\n",
    "\n",
    "psik_dert = psik1_dert + psik2_dert + psik3_dert + psik4_dert + psik5_dert + psik6_dert + psik7_dert + psik8_dert + psik9_dert\n",
    "\n",
    "Ktao = sym.zeros(9, 9)\n",
    "Ktao[3, 0] = psik_dert[3, 3] * psik[3 ,3]\n",
    "Ktao[4, 1] = psik_dert[4, 4] * psik[4 ,4]\n",
    "Ktao[5, 2] = psik_dert[5, 5] * psik[5 ,5]\n",
    "Ktao[6, 3] = psik_dert[6, 6] * psik[6 ,6]\n",
    "Ktao[7, 4] = psik_dert[7, 7] * psik[7 ,7]\n",
    "Ktao[8, 5] = psik_dert[8, 8] * psik[8 ,8]\n",
    "Ktao = sym.integrate(sym.integrate(Ktao, (x, 0, 1)), (t, 0 , 1)) \n",
    "Ktao"
   ]
  },
  {
   "cell_type": "code",
   "execution_count": 21,
   "metadata": {},
   "outputs": [
    {
     "data": {
      "text/latex": [
       "$\\displaystyle \\left[\\begin{matrix}0 & \\frac{1}{2} & 0 & 0 & 0 & 0 & 0 & 0 & 0\\\\0 & 0 & \\frac{1}{2} & 0 & 0 & 0 & 0 & 0 & 0\\\\0 & 0 & 0 & 0 & 0 & 0 & 0 & 0 & 0\\\\0 & 0 & 0 & 0 & \\frac{1}{6} & 0 & 0 & 0 & 0\\\\0 & 0 & 0 & 0 & 0 & \\frac{1}{6} & 0 & 0 & 0\\\\0 & 0 & 0 & 0 & 0 & 0 & 0 & 0 & 0\\\\0 & 0 & 0 & 0 & 0 & 0 & 0 & \\frac{1}{10} & 0\\\\0 & 0 & 0 & 0 & 0 & 0 & 0 & 0 & \\frac{1}{10}\\\\0 & 0 & 0 & 0 & 0 & 0 & 0 & 0 & 0\\end{matrix}\\right]$"
      ],
      "text/plain": [
       "Matrix([\n",
       "[0, 1/2,   0, 0,   0,   0, 0,    0,    0],\n",
       "[0,   0, 1/2, 0,   0,   0, 0,    0,    0],\n",
       "[0,   0,   0, 0,   0,   0, 0,    0,    0],\n",
       "[0,   0,   0, 0, 1/6,   0, 0,    0,    0],\n",
       "[0,   0,   0, 0,   0, 1/6, 0,    0,    0],\n",
       "[0,   0,   0, 0,   0,   0, 0,    0,    0],\n",
       "[0,   0,   0, 0,   0,   0, 0, 1/10,    0],\n",
       "[0,   0,   0, 0,   0,   0, 0,    0, 1/10],\n",
       "[0,   0,   0, 0,   0,   0, 0,    0,    0]])"
      ]
     },
     "execution_count": 21,
     "metadata": {},
     "output_type": "execute_result"
    }
   ],
   "source": [
    "# Kzeta matrix\n",
    "psik1_derx = sym.diff(psik1, x)\n",
    "psik2_derx = sym.diff(psik2, x)\n",
    "psik3_derx = sym.diff(psik3, x)\n",
    "psik4_derx = sym.diff(psik4, x)\n",
    "psik5_derx = sym.diff(psik5, x)\n",
    "psik6_derx = sym.diff(psik6, x)\n",
    "psik7_derx = sym.diff(psik7, x)\n",
    "psik8_derx = sym.diff(psik8, x)\n",
    "psik9_derx = sym.diff(psik9, x)\n",
    "\n",
    "psik_derx = psik1_derx + psik2_derx + psik3_derx + psik4_derx + psik5_derx + psik6_derx + psik7_derx + psik8_derx + psik9_derx\n",
    "\n",
    "Kzeta = sym.zeros(9, 9)\n",
    "Kzeta[0, 1] = psik_derx[1, 1] * psik[1, 1]\n",
    "Kzeta[1, 2] = psik_derx[2, 2] * psik[2, 2]\n",
    "Kzeta[2, 3] = psik_derx[3, 3] * psik[3, 3]\n",
    "Kzeta[3, 4] = psik_derx[4, 4] * psik[4, 4]\n",
    "Kzeta[4, 5] = psik_derx[5, 5] * psik[5, 5]\n",
    "Kzeta[5, 6] = psik_derx[6, 6] * psik[6, 6]\n",
    "Kzeta[6, 7] = psik_derx[7, 7] * psik[7, 7]\n",
    "Kzeta[7, 8] = psik_derx[8, 8] * psik[8, 8]\n",
    "\n",
    "Kzeta = sym.integrate(sym.integrate(Kzeta, (x, 0, 1)), (t, 0 , 1)) \n",
    "Kzeta"
   ]
  },
  {
   "cell_type": "code",
   "execution_count": 22,
   "metadata": {},
   "outputs": [
    {
     "data": {
      "text/latex": [
       "$\\displaystyle \\left[\\begin{matrix}1 & 0 & 0 & 1 & 0 & 0 & 1 & 0 & 0\\\\0 & \\frac{1}{3} & 0 & 0 & \\frac{1}{3} & 0 & 0 & \\frac{1}{3} & 0\\\\0 & 0 & \\frac{1}{5} & 0 & 0 & \\frac{1}{5} & 0 & 0 & \\frac{1}{5}\\\\1 & 0 & 0 & 1 & 0 & 0 & 1 & 0 & 0\\\\0 & \\frac{1}{3} & 0 & 0 & \\frac{1}{3} & 0 & 0 & \\frac{1}{3} & 0\\\\0 & 0 & \\frac{1}{5} & 0 & 0 & \\frac{1}{5} & 0 & 0 & \\frac{1}{5}\\\\1 & 0 & 0 & 1 & 0 & 0 & 1 & 0 & 0\\\\0 & \\frac{1}{3} & 0 & 0 & \\frac{1}{3} & 0 & 0 & \\frac{1}{3} & 0\\\\0 & 0 & \\frac{1}{5} & 0 & 0 & \\frac{1}{5} & 0 & 0 & \\frac{1}{5}\\end{matrix}\\right]$"
      ],
      "text/plain": [
       "Matrix([\n",
       "[1,   0,   0, 1,   0,   0, 1,   0,   0],\n",
       "[0, 1/3,   0, 0, 1/3,   0, 0, 1/3,   0],\n",
       "[0,   0, 1/5, 0,   0, 1/5, 0,   0, 1/5],\n",
       "[1,   0,   0, 1,   0,   0, 1,   0,   0],\n",
       "[0, 1/3,   0, 0, 1/3,   0, 0, 1/3,   0],\n",
       "[0,   0, 1/5, 0,   0, 1/5, 0,   0, 1/5],\n",
       "[1,   0,   0, 1,   0,   0, 1,   0,   0],\n",
       "[0, 1/3,   0, 0, 1/3,   0, 0, 1/3,   0],\n",
       "[0,   0, 1/5, 0,   0, 1/5, 0,   0, 1/5]])"
      ]
     },
     "execution_count": 22,
     "metadata": {},
     "output_type": "execute_result"
    }
   ],
   "source": [
    "# F1 matrix\n",
    "#Here you will have M+1 set of symmetric diagonals \n",
    "psik_t1 = psik.subs(t, 1)\n",
    "#---Main diagonal (this is the first set)---\n",
    "F1 = psik_t1 * psik_t1 \n",
    "#-------------------\n",
    "#---second set of diagonals\n",
    "F1[3, 0] = psik_t1[3, 3] ** 2; F1[0, 3] = psik_t1[3, 3] ** 2\n",
    "F1[4, 1] = psik_t1[4, 4] ** 2; F1[1, 4] = psik_t1[4, 4] ** 2\n",
    "F1[5, 2] = psik_t1[5, 5] ** 2; F1[2, 5] = psik_t1[5, 5] ** 2\n",
    "F1[6, 3] = psik_t1[6, 6] ** 2; F1[3, 6] = psik_t1[6, 6] ** 2\n",
    "F1[7, 4] = psik_t1[7, 7] ** 2; F1[4, 7] = psik_t1[7, 7] ** 2\n",
    "F1[8, 5] = psik_t1[8, 8] ** 2; F1[5, 8] = psik_t1[8, 8] ** 2\n",
    "#-------------------\n",
    "#---third set of diagonals\n",
    "F1[6, 0] = psik_t1[3, 3] ** 2; F1[0, 6] = psik_t1[3, 3] ** 2\n",
    "F1[7, 1] = psik_t1[4, 4] ** 2; F1[1, 7] = psik_t1[4, 4] ** 2\n",
    "F1[8, 2] = psik_t1[5, 5] ** 2; F1[2, 8] = psik_t1[5, 5] ** 2\n",
    "#-------------------\n",
    "\n",
    "F1 = sym.integrate(F1, (x, 0, 1)) \n",
    "F1"
   ]
  },
  {
   "cell_type": "code",
   "execution_count": 7,
   "metadata": {},
   "outputs": [
    {
     "data": {
      "text/latex": [
       "$\\displaystyle \\left[\\begin{matrix}1 & 0 & 0\\\\0 & \\frac{1}{3} & 0\\\\0 & 0 & \\frac{1}{5}\\\\-1 & 0 & 0\\\\0 & - \\frac{1}{3} & 0\\\\0 & 0 & - \\frac{1}{5}\\\\1 & 0 & 0\\\\0 & \\frac{1}{3} & 0\\\\0 & 0 & \\frac{1}{5}\\end{matrix}\\right]$"
      ],
      "text/plain": [
       "Matrix([\n",
       "[ 1,    0,    0],\n",
       "[ 0,  1/3,    0],\n",
       "[ 0,    0,  1/5],\n",
       "[-1,    0,    0],\n",
       "[ 0, -1/3,    0],\n",
       "[ 0,    0, -1/5],\n",
       "[ 1,    0,    0],\n",
       "[ 0,  1/3,    0],\n",
       "[ 0,    0,  1/5]])"
      ]
     },
     "execution_count": 7,
     "metadata": {},
     "output_type": "execute_result"
    }
   ],
   "source": [
    "# F0 matrix\n",
    "#You will get here a (m+1)^2 x (m+1) matrix\n",
    "psik_init = psik.subs(t, 0)\n",
    "F0 = sym.zeros(9, 3)\n",
    "\n",
    "F0[0, 0] = (-1) ** 0 * psik[0, 0] ** 2\n",
    "F0[1, 1] = (-1) ** 0 * psik[1, 1] ** 2 \n",
    "F0[2, 2] = (-1) ** 0 * psik[2, 2] ** 2 \n",
    "\n",
    "F0[3, 0] = (-1) ** 3 * psik[0, 0] ** 2\n",
    "F0[4, 1] = (-1) ** 3 * psik[1, 1] ** 2 \n",
    "F0[5, 2] = (-1) ** 3 * psik[2, 2] ** 2 \n",
    "\n",
    "F0[6, 0] = (-1) ** 6 * psik[0, 0] ** 2\n",
    "F0[7, 1] = (-1) ** 6 * psik[1, 1] ** 2 \n",
    "F0[8, 2] = (-1) ** 6 * psik[2, 2] ** 2 \n",
    "\n",
    "F0 = sym.integrate(F0, (x, 0, 1)) \n",
    "F0"
   ]
  },
  {
   "cell_type": "code",
   "execution_count": 8,
   "metadata": {},
   "outputs": [
    {
     "data": {
      "text/latex": [
       "$\\displaystyle \\left[\\begin{matrix}0.136763\\\\0.624989\\\\0.238248\\end{matrix}\\right]$"
      ],
      "text/plain": [
       "Matrix([\n",
       "[0.136763],\n",
       "[0.624989],\n",
       "[0.238248]])"
      ]
     },
     "execution_count": 8,
     "metadata": {},
     "output_type": "execute_result"
    }
   ],
   "source": [
    "w = sym.zeros(3, 1)\n",
    "w[0, 0] = 0.136763; w[1, 0] = 0.624989; w[2, 0] = 0.238248 \n",
    "w"
   ]
  },
  {
   "cell_type": "code",
   "execution_count": 26,
   "metadata": {
    "scrolled": true
   },
   "outputs": [
    {
     "data": {
      "text/latex": [
       "$\\displaystyle \\left[\\begin{matrix}-0.1898688\\\\- 0.35902 x\\\\0.952992 x^{2}\\\\0.92748868 t\\\\- 3.2878224 t x\\\\0\\\\- 0.42134688 t^{2}\\\\2.8423434 t^{2} x\\\\- 0.714744 t^{2} x^{2}\\end{matrix}\\right]$"
      ],
      "text/plain": [
       "Matrix([\n",
       "[         -0.1898688],\n",
       "[         -0.35902*x],\n",
       "[      0.952992*x**2],\n",
       "[       0.92748868*t],\n",
       "[     -3.2878224*t*x],\n",
       "[                  0],\n",
       "[   -0.42134688*t**2],\n",
       "[   2.8423434*t**2*x],\n",
       "[-0.714744*t**2*x**2]])"
      ]
     },
     "execution_count": 26,
     "metadata": {},
     "output_type": "execute_result"
    }
   ],
   "source": [
    "Y = F1 - Ktao + Kzeta\n",
    "Yinv = Y.inv()\n",
    "u = psik * (Yinv * (F0 * w))\n",
    "u # this is just a test para i = 0, i.e, the first space-time polynomial"
   ]
  },
  {
   "cell_type": "code",
   "execution_count": 27,
   "metadata": {},
   "outputs": [
    {
     "data": {
      "text/latex": [
       "$\\displaystyle \\left[\\begin{matrix}-0.1898688\\\\-0.35902\\\\0.952992\\\\0.92748868\\\\-3.2878224\\\\0\\\\-0.42134688\\\\2.8423434\\\\-0.714744\\end{matrix}\\right]$"
      ],
      "text/plain": [
       "Matrix([\n",
       "[ -0.1898688],\n",
       "[   -0.35902],\n",
       "[   0.952992],\n",
       "[ 0.92748868],\n",
       "[ -3.2878224],\n",
       "[          0],\n",
       "[-0.42134688],\n",
       "[  2.8423434],\n",
       "[  -0.714744]])"
      ]
     },
     "execution_count": 27,
     "metadata": {},
     "output_type": "execute_result"
    }
   ],
   "source": [
    "sym.eye(9)*(Yinv * (F0 * w))"
   ]
  },
  {
   "cell_type": "code",
   "execution_count": 25,
   "metadata": {},
   "outputs": [
    {
     "data": {
      "text/latex": [
       "$\\displaystyle \\left[\\begin{matrix}2 & -4 & 7 & -2 & 6 & -18 & 0 & -2 & 12\\\\0 & 6 & -20 & 0 & -6 & 30 & 0 & 0 & -10\\\\0 & 0 & 10 & 0 & 0 & -10 & 0 & 0 & 0\\\\2 & - \\frac{39}{5} & \\frac{144}{5} & 0 & \\frac{36}{5} & - \\frac{201}{5} & -2 & \\frac{6}{5} & \\frac{54}{5}\\\\0 & 6 & -39 & 0 & 0 & 36 & 0 & -6 & 6\\\\0 & 0 & 10 & 0 & 0 & 0 & 0 & 0 & -10\\\\-3 & \\frac{44}{5} & - \\frac{129}{5} & 2 & - \\frac{51}{5} & \\frac{216}{5} & 2 & \\frac{4}{5} & - \\frac{89}{5}\\\\0 & -9 & 44 & 0 & 6 & -51 & 0 & 6 & 4\\\\0 & 0 & -15 & 0 & 0 & 10 & 0 & 0 & 10\\end{matrix}\\right]$"
      ],
      "text/plain": [
       "Matrix([\n",
       "[ 2,    -4,      7, -2,     6,    -18,  0,  -2,    12],\n",
       "[ 0,     6,    -20,  0,    -6,     30,  0,   0,   -10],\n",
       "[ 0,     0,     10,  0,     0,    -10,  0,   0,     0],\n",
       "[ 2, -39/5,  144/5,  0,  36/5, -201/5, -2, 6/5,  54/5],\n",
       "[ 0,     6,    -39,  0,     0,     36,  0,  -6,     6],\n",
       "[ 0,     0,     10,  0,     0,      0,  0,   0,   -10],\n",
       "[-3,  44/5, -129/5,  2, -51/5,  216/5,  2, 4/5, -89/5],\n",
       "[ 0,    -9,     44,  0,     6,    -51,  0,   6,     4],\n",
       "[ 0,     0,    -15,  0,     0,     10,  0,   0,    10]])"
      ]
     },
     "execution_count": 25,
     "metadata": {},
     "output_type": "execute_result"
    }
   ],
   "source": [
    "Yinv"
   ]
  },
  {
   "cell_type": "code",
   "execution_count": null,
   "metadata": {},
   "outputs": [],
   "source": []
  },
  {
   "cell_type": "code",
   "execution_count": null,
   "metadata": {},
   "outputs": [],
   "source": []
  },
  {
   "cell_type": "code",
   "execution_count": null,
   "metadata": {},
   "outputs": [],
   "source": []
  },
  {
   "cell_type": "code",
   "execution_count": null,
   "metadata": {},
   "outputs": [],
   "source": []
  },
  {
   "cell_type": "code",
   "execution_count": null,
   "metadata": {},
   "outputs": [],
   "source": []
  }
 ],
 "metadata": {
  "kernelspec": {
   "display_name": "Python 3",
   "language": "python",
   "name": "python3"
  },
  "language_info": {
   "codemirror_mode": {
    "name": "ipython",
    "version": 3
   },
   "file_extension": ".py",
   "mimetype": "text/x-python",
   "name": "python",
   "nbconvert_exporter": "python",
   "pygments_lexer": "ipython3",
   "version": "3.8.2"
  }
 },
 "nbformat": 4,
 "nbformat_minor": 4
}
